{
  "nbformat": 4,
  "nbformat_minor": 0,
  "metadata": {
    "colab": {
      "provenance": []
    },
    "kernelspec": {
      "name": "python3",
      "display_name": "Python 3"
    },
    "language_info": {
      "name": "python"
    }
  },
  "cells": [
    {
      "cell_type": "code",
      "source": [
        "## Install libraries\n",
        "import pandas as pd\n",
        "!pip install -U sentence-transformers"
      ],
      "metadata": {
        "colab": {
          "base_uri": "https://localhost:8080/"
        },
        "id": "Gd5iKRP80iBU",
        "outputId": "596bd042-9748-4320-c9cc-26496efea719"
      },
      "execution_count": 36,
      "outputs": [
        {
          "output_type": "stream",
          "name": "stdout",
          "text": [
            "Looking in indexes: https://pypi.org/simple, https://us-python.pkg.dev/colab-wheels/public/simple/\n",
            "Requirement already satisfied: sentence-transformers in /usr/local/lib/python3.8/dist-packages (2.2.2)\n",
            "Requirement already satisfied: tqdm in /usr/local/lib/python3.8/dist-packages (from sentence-transformers) (4.64.1)\n",
            "Requirement already satisfied: transformers<5.0.0,>=4.6.0 in /usr/local/lib/python3.8/dist-packages (from sentence-transformers) (4.25.1)\n",
            "Requirement already satisfied: scipy in /usr/local/lib/python3.8/dist-packages (from sentence-transformers) (1.7.3)\n",
            "Requirement already satisfied: nltk in /usr/local/lib/python3.8/dist-packages (from sentence-transformers) (3.7)\n",
            "Requirement already satisfied: numpy in /usr/local/lib/python3.8/dist-packages (from sentence-transformers) (1.21.6)\n",
            "Requirement already satisfied: torch>=1.6.0 in /usr/local/lib/python3.8/dist-packages (from sentence-transformers) (1.13.1+cu116)\n",
            "Requirement already satisfied: torchvision in /usr/local/lib/python3.8/dist-packages (from sentence-transformers) (0.14.1+cu116)\n",
            "Requirement already satisfied: scikit-learn in /usr/local/lib/python3.8/dist-packages (from sentence-transformers) (1.0.2)\n",
            "Requirement already satisfied: huggingface-hub>=0.4.0 in /usr/local/lib/python3.8/dist-packages (from sentence-transformers) (0.11.1)\n",
            "Requirement already satisfied: sentencepiece in /usr/local/lib/python3.8/dist-packages (from sentence-transformers) (0.1.97)\n",
            "Requirement already satisfied: filelock in /usr/local/lib/python3.8/dist-packages (from huggingface-hub>=0.4.0->sentence-transformers) (3.9.0)\n",
            "Requirement already satisfied: typing-extensions>=3.7.4.3 in /usr/local/lib/python3.8/dist-packages (from huggingface-hub>=0.4.0->sentence-transformers) (4.4.0)\n",
            "Requirement already satisfied: requests in /usr/local/lib/python3.8/dist-packages (from huggingface-hub>=0.4.0->sentence-transformers) (2.25.1)\n",
            "Requirement already satisfied: packaging>=20.9 in /usr/local/lib/python3.8/dist-packages (from huggingface-hub>=0.4.0->sentence-transformers) (21.3)\n",
            "Requirement already satisfied: pyyaml>=5.1 in /usr/local/lib/python3.8/dist-packages (from huggingface-hub>=0.4.0->sentence-transformers) (6.0)\n",
            "Requirement already satisfied: regex!=2019.12.17 in /usr/local/lib/python3.8/dist-packages (from transformers<5.0.0,>=4.6.0->sentence-transformers) (2022.6.2)\n",
            "Requirement already satisfied: tokenizers!=0.11.3,<0.14,>=0.11.1 in /usr/local/lib/python3.8/dist-packages (from transformers<5.0.0,>=4.6.0->sentence-transformers) (0.13.2)\n",
            "Requirement already satisfied: joblib in /usr/local/lib/python3.8/dist-packages (from nltk->sentence-transformers) (1.2.0)\n",
            "Requirement already satisfied: click in /usr/local/lib/python3.8/dist-packages (from nltk->sentence-transformers) (7.1.2)\n",
            "Requirement already satisfied: threadpoolctl>=2.0.0 in /usr/local/lib/python3.8/dist-packages (from scikit-learn->sentence-transformers) (3.1.0)\n",
            "Requirement already satisfied: pillow!=8.3.*,>=5.3.0 in /usr/local/lib/python3.8/dist-packages (from torchvision->sentence-transformers) (7.1.2)\n",
            "Requirement already satisfied: pyparsing!=3.0.5,>=2.0.2 in /usr/local/lib/python3.8/dist-packages (from packaging>=20.9->huggingface-hub>=0.4.0->sentence-transformers) (3.0.9)\n",
            "Requirement already satisfied: idna<3,>=2.5 in /usr/local/lib/python3.8/dist-packages (from requests->huggingface-hub>=0.4.0->sentence-transformers) (2.10)\n",
            "Requirement already satisfied: urllib3<1.27,>=1.21.1 in /usr/local/lib/python3.8/dist-packages (from requests->huggingface-hub>=0.4.0->sentence-transformers) (1.24.3)\n",
            "Requirement already satisfied: chardet<5,>=3.0.2 in /usr/local/lib/python3.8/dist-packages (from requests->huggingface-hub>=0.4.0->sentence-transformers) (4.0.0)\n",
            "Requirement already satisfied: certifi>=2017.4.17 in /usr/local/lib/python3.8/dist-packages (from requests->huggingface-hub>=0.4.0->sentence-transformers) (2022.12.7)\n",
            "\u001b[33mWARNING: Running pip as the 'root' user can result in broken permissions and conflicting behaviour with the system package manager. It is recommended to use a virtual environment instead: https://pip.pypa.io/warnings/venv\u001b[0m\u001b[33m\n",
            "\u001b[0m"
          ]
        }
      ]
    },
    {
      "cell_type": "code",
      "source": [
        "from sentence_transformers import SentenceTransformer"
      ],
      "metadata": {
        "id": "NKfO4atF3iq1"
      },
      "execution_count": 37,
      "outputs": []
    },
    {
      "cell_type": "code",
      "source": [
        "embedder = SentenceTransformer('distilbert-base-nli-stsb-mean-tokens')"
      ],
      "metadata": {
        "id": "GI2IgvMA3ufm"
      },
      "execution_count": 38,
      "outputs": []
    },
    {
      "cell_type": "code",
      "execution_count": 60,
      "metadata": {
        "colab": {
          "base_uri": "https://localhost:8080/"
        },
        "id": "J02sR9rMyHiE",
        "outputId": "a370fc35-38c2-4d6e-f628-9da380ee4210"
      },
      "outputs": [
        {
          "output_type": "stream",
          "name": "stdout",
          "text": [
            "                                                 text\n",
            "0           I have a checking account with this bank.\n",
            "1             I applied for a car loan with this bank\n",
            "2   I use the bank's mobile app to check my accoun...\n",
            "3                I have a credit card with this bank.\n",
            "4    I received poor customer service from this bank.\n",
            "5   I had a problem with a transaction on my account.\n",
            "6    I am unhappy with the fees charged by this bank.\n",
            "7   I use this bank's online banking system regula...\n",
            "8            I have a savings account with this bank.\n",
            "9     I recently opened a new account with this bank.\n",
            "10  I have an issue with the bank's security measures\n",
            "11  I've been using the bank's ATM for cash withdr...\n",
            "12     I've been using the bank's investment services\n",
            "13  I've been facing technical difficulties with t...\n"
          ]
        }
      ],
      "source": [
        "# create a list of sentences\n",
        "texts = ['I have a checking account with this bank.', 'I applied for a car loan with this bank', \n",
        "         \"I use the bank's mobile app to check my account balance\", 'I have a credit card with this bank.', \n",
        "         \"I received poor customer service from this bank.\", \"I had a problem with a transaction on my account.\",\n",
        "         \"I am unhappy with the fees charged by this bank.\", \"I use this bank's online banking system regularly.\", \n",
        "         \"I have a savings account with this bank.\", \"I recently opened a new account with this bank.\",\n",
        "         \"I have an issue with the bank's security measures\",\"I've been using the bank's ATM for cash withdrawals\",\n",
        "         \"I've been using the bank's investment services\",\"I've been facing technical difficulties with the bank's website\"] \n",
        "\n",
        "# create a pandas dataframe with the sentences\n",
        "df = pd.DataFrame({'text': texts})\n",
        "print(df)"
      ]
    },
    {
      "cell_type": "code",
      "source": [
        "# Utility function for generating sentence embedding from the text\n",
        "def get_embeddinngs(text):\n",
        "  corpus_embeddings = embedder.encode(text)\n",
        "  return corpus_embeddings\n",
        "corpus_embeddings = embedder.encode(df['text'])\n",
        "\n",
        "# Generating sentence embedding from the text\n",
        "df['emb'] = df['text'].apply(get_embeddinngs)"
      ],
      "metadata": {
        "id": "dr0HYOJD0YdM"
      },
      "execution_count": 62,
      "outputs": []
    },
    {
      "cell_type": "code",
      "source": [
        "df"
      ],
      "metadata": {
        "colab": {
          "base_uri": "https://localhost:8080/",
          "height": 488
        },
        "id": "zxTlC_eJ4HLc",
        "outputId": "03f05899-fcc7-4eb0-a94f-23a41a6a0b9d"
      },
      "execution_count": 63,
      "outputs": [
        {
          "output_type": "execute_result",
          "data": {
            "text/plain": [
              "                                                 text  \\\n",
              "0           I have a checking account with this bank.   \n",
              "1             I applied for a car loan with this bank   \n",
              "2   I use the bank's mobile app to check my accoun...   \n",
              "3                I have a credit card with this bank.   \n",
              "4    I received poor customer service from this bank.   \n",
              "5   I had a problem with a transaction on my account.   \n",
              "6    I am unhappy with the fees charged by this bank.   \n",
              "7   I use this bank's online banking system regula...   \n",
              "8            I have a savings account with this bank.   \n",
              "9     I recently opened a new account with this bank.   \n",
              "10  I have an issue with the bank's security measures   \n",
              "11  I've been using the bank's ATM for cash withdr...   \n",
              "12     I've been using the bank's investment services   \n",
              "13  I've been facing technical difficulties with t...   \n",
              "\n",
              "                                                  emb  \n",
              "0   [0.2518694, 0.18841672, -0.27004644, -0.669693...  \n",
              "1   [0.16947062, 0.31541425, -0.21413799, -0.51530...  \n",
              "2   [-0.2852146, 0.811626, -0.074221395, -0.692892...  \n",
              "3   [0.5006289, 0.10921326, -0.14301886, -0.457385...  \n",
              "4   [-0.5165054, -0.10084564, -0.9285087, -0.41940...  \n",
              "5   [-0.08965648, -0.5303556, -0.8240159, -0.99514...  \n",
              "6   [0.4128506, 0.37816653, -0.30851203, -0.178260...  \n",
              "7   [0.19739445, 0.22747935, -0.24507298, 0.023454...  \n",
              "8   [0.104360156, -0.10246729, -0.028466595, -1.08...  \n",
              "9   [0.2942934, 0.30836558, 0.036514882, -1.485082...  \n",
              "10  [-0.097212486, -0.34725747, -0.48799464, -1.01...  \n",
              "11  [-0.41566852, 0.19277813, -0.5492413, -0.80944...  \n",
              "12  [0.006905877, -0.012866602, -0.3446814, -1.250...  \n",
              "13  [-0.2686263, -0.12882183, -0.9479333, -0.66438...  "
            ],
            "text/html": [
              "\n",
              "  <div id=\"df-656999a5-ea95-451c-8b26-699640ae64bb\">\n",
              "    <div class=\"colab-df-container\">\n",
              "      <div>\n",
              "<style scoped>\n",
              "    .dataframe tbody tr th:only-of-type {\n",
              "        vertical-align: middle;\n",
              "    }\n",
              "\n",
              "    .dataframe tbody tr th {\n",
              "        vertical-align: top;\n",
              "    }\n",
              "\n",
              "    .dataframe thead th {\n",
              "        text-align: right;\n",
              "    }\n",
              "</style>\n",
              "<table border=\"1\" class=\"dataframe\">\n",
              "  <thead>\n",
              "    <tr style=\"text-align: right;\">\n",
              "      <th></th>\n",
              "      <th>text</th>\n",
              "      <th>emb</th>\n",
              "    </tr>\n",
              "  </thead>\n",
              "  <tbody>\n",
              "    <tr>\n",
              "      <th>0</th>\n",
              "      <td>I have a checking account with this bank.</td>\n",
              "      <td>[0.2518694, 0.18841672, -0.27004644, -0.669693...</td>\n",
              "    </tr>\n",
              "    <tr>\n",
              "      <th>1</th>\n",
              "      <td>I applied for a car loan with this bank</td>\n",
              "      <td>[0.16947062, 0.31541425, -0.21413799, -0.51530...</td>\n",
              "    </tr>\n",
              "    <tr>\n",
              "      <th>2</th>\n",
              "      <td>I use the bank's mobile app to check my accoun...</td>\n",
              "      <td>[-0.2852146, 0.811626, -0.074221395, -0.692892...</td>\n",
              "    </tr>\n",
              "    <tr>\n",
              "      <th>3</th>\n",
              "      <td>I have a credit card with this bank.</td>\n",
              "      <td>[0.5006289, 0.10921326, -0.14301886, -0.457385...</td>\n",
              "    </tr>\n",
              "    <tr>\n",
              "      <th>4</th>\n",
              "      <td>I received poor customer service from this bank.</td>\n",
              "      <td>[-0.5165054, -0.10084564, -0.9285087, -0.41940...</td>\n",
              "    </tr>\n",
              "    <tr>\n",
              "      <th>5</th>\n",
              "      <td>I had a problem with a transaction on my account.</td>\n",
              "      <td>[-0.08965648, -0.5303556, -0.8240159, -0.99514...</td>\n",
              "    </tr>\n",
              "    <tr>\n",
              "      <th>6</th>\n",
              "      <td>I am unhappy with the fees charged by this bank.</td>\n",
              "      <td>[0.4128506, 0.37816653, -0.30851203, -0.178260...</td>\n",
              "    </tr>\n",
              "    <tr>\n",
              "      <th>7</th>\n",
              "      <td>I use this bank's online banking system regula...</td>\n",
              "      <td>[0.19739445, 0.22747935, -0.24507298, 0.023454...</td>\n",
              "    </tr>\n",
              "    <tr>\n",
              "      <th>8</th>\n",
              "      <td>I have a savings account with this bank.</td>\n",
              "      <td>[0.104360156, -0.10246729, -0.028466595, -1.08...</td>\n",
              "    </tr>\n",
              "    <tr>\n",
              "      <th>9</th>\n",
              "      <td>I recently opened a new account with this bank.</td>\n",
              "      <td>[0.2942934, 0.30836558, 0.036514882, -1.485082...</td>\n",
              "    </tr>\n",
              "    <tr>\n",
              "      <th>10</th>\n",
              "      <td>I have an issue with the bank's security measures</td>\n",
              "      <td>[-0.097212486, -0.34725747, -0.48799464, -1.01...</td>\n",
              "    </tr>\n",
              "    <tr>\n",
              "      <th>11</th>\n",
              "      <td>I've been using the bank's ATM for cash withdr...</td>\n",
              "      <td>[-0.41566852, 0.19277813, -0.5492413, -0.80944...</td>\n",
              "    </tr>\n",
              "    <tr>\n",
              "      <th>12</th>\n",
              "      <td>I've been using the bank's investment services</td>\n",
              "      <td>[0.006905877, -0.012866602, -0.3446814, -1.250...</td>\n",
              "    </tr>\n",
              "    <tr>\n",
              "      <th>13</th>\n",
              "      <td>I've been facing technical difficulties with t...</td>\n",
              "      <td>[-0.2686263, -0.12882183, -0.9479333, -0.66438...</td>\n",
              "    </tr>\n",
              "  </tbody>\n",
              "</table>\n",
              "</div>\n",
              "      <button class=\"colab-df-convert\" onclick=\"convertToInteractive('df-656999a5-ea95-451c-8b26-699640ae64bb')\"\n",
              "              title=\"Convert this dataframe to an interactive table.\"\n",
              "              style=\"display:none;\">\n",
              "        \n",
              "  <svg xmlns=\"http://www.w3.org/2000/svg\" height=\"24px\"viewBox=\"0 0 24 24\"\n",
              "       width=\"24px\">\n",
              "    <path d=\"M0 0h24v24H0V0z\" fill=\"none\"/>\n",
              "    <path d=\"M18.56 5.44l.94 2.06.94-2.06 2.06-.94-2.06-.94-.94-2.06-.94 2.06-2.06.94zm-11 1L8.5 8.5l.94-2.06 2.06-.94-2.06-.94L8.5 2.5l-.94 2.06-2.06.94zm10 10l.94 2.06.94-2.06 2.06-.94-2.06-.94-.94-2.06-.94 2.06-2.06.94z\"/><path d=\"M17.41 7.96l-1.37-1.37c-.4-.4-.92-.59-1.43-.59-.52 0-1.04.2-1.43.59L10.3 9.45l-7.72 7.72c-.78.78-.78 2.05 0 2.83L4 21.41c.39.39.9.59 1.41.59.51 0 1.02-.2 1.41-.59l7.78-7.78 2.81-2.81c.8-.78.8-2.07 0-2.86zM5.41 20L4 18.59l7.72-7.72 1.47 1.35L5.41 20z\"/>\n",
              "  </svg>\n",
              "      </button>\n",
              "      \n",
              "  <style>\n",
              "    .colab-df-container {\n",
              "      display:flex;\n",
              "      flex-wrap:wrap;\n",
              "      gap: 12px;\n",
              "    }\n",
              "\n",
              "    .colab-df-convert {\n",
              "      background-color: #E8F0FE;\n",
              "      border: none;\n",
              "      border-radius: 50%;\n",
              "      cursor: pointer;\n",
              "      display: none;\n",
              "      fill: #1967D2;\n",
              "      height: 32px;\n",
              "      padding: 0 0 0 0;\n",
              "      width: 32px;\n",
              "    }\n",
              "\n",
              "    .colab-df-convert:hover {\n",
              "      background-color: #E2EBFA;\n",
              "      box-shadow: 0px 1px 2px rgba(60, 64, 67, 0.3), 0px 1px 3px 1px rgba(60, 64, 67, 0.15);\n",
              "      fill: #174EA6;\n",
              "    }\n",
              "\n",
              "    [theme=dark] .colab-df-convert {\n",
              "      background-color: #3B4455;\n",
              "      fill: #D2E3FC;\n",
              "    }\n",
              "\n",
              "    [theme=dark] .colab-df-convert:hover {\n",
              "      background-color: #434B5C;\n",
              "      box-shadow: 0px 1px 3px 1px rgba(0, 0, 0, 0.15);\n",
              "      filter: drop-shadow(0px 1px 2px rgba(0, 0, 0, 0.3));\n",
              "      fill: #FFFFFF;\n",
              "    }\n",
              "  </style>\n",
              "\n",
              "      <script>\n",
              "        const buttonEl =\n",
              "          document.querySelector('#df-656999a5-ea95-451c-8b26-699640ae64bb button.colab-df-convert');\n",
              "        buttonEl.style.display =\n",
              "          google.colab.kernel.accessAllowed ? 'block' : 'none';\n",
              "\n",
              "        async function convertToInteractive(key) {\n",
              "          const element = document.querySelector('#df-656999a5-ea95-451c-8b26-699640ae64bb');\n",
              "          const dataTable =\n",
              "            await google.colab.kernel.invokeFunction('convertToInteractive',\n",
              "                                                     [key], {});\n",
              "          if (!dataTable) return;\n",
              "\n",
              "          const docLinkHtml = 'Like what you see? Visit the ' +\n",
              "            '<a target=\"_blank\" href=https://colab.research.google.com/notebooks/data_table.ipynb>data table notebook</a>'\n",
              "            + ' to learn more about interactive tables.';\n",
              "          element.innerHTML = '';\n",
              "          dataTable['output_type'] = 'display_data';\n",
              "          await google.colab.output.renderOutput(dataTable, element);\n",
              "          const docLink = document.createElement('div');\n",
              "          docLink.innerHTML = docLinkHtml;\n",
              "          element.appendChild(docLink);\n",
              "        }\n",
              "      </script>\n",
              "    </div>\n",
              "  </div>\n",
              "  "
            ]
          },
          "metadata": {},
          "execution_count": 63
        }
      ]
    },
    {
      "cell_type": "code",
      "source": [
        "#  k-means clustering using sklearn:\n",
        "from sklearn.cluster import KMeans\n",
        "\n",
        "num_clusters = 3\n",
        "clustering_model = KMeans(n_clusters=num_clusters)\n",
        "clustering_model.fit(corpus_embeddings)\n",
        "cluster_assignment = clustering_model.labels_"
      ],
      "metadata": {
        "id": "zTGt1qwX5bxM"
      },
      "execution_count": 64,
      "outputs": []
    },
    {
      "cell_type": "code",
      "source": [
        "cluster_assignment"
      ],
      "metadata": {
        "colab": {
          "base_uri": "https://localhost:8080/"
        },
        "id": "FYAzs_Q15lAF",
        "outputId": "8cc3dd7f-a9a6-4b42-b4c4-670321e13e06"
      },
      "execution_count": 65,
      "outputs": [
        {
          "output_type": "execute_result",
          "data": {
            "text/plain": [
              "array([1, 1, 2, 1, 0, 2, 0, 2, 1, 1, 0, 2, 2, 0], dtype=int32)"
            ]
          },
          "metadata": {},
          "execution_count": 65
        }
      ]
    },
    {
      "cell_type": "code",
      "source": [
        "corpus = df['text'].tolist()"
      ],
      "metadata": {
        "id": "yYP8l_UA6GIM"
      },
      "execution_count": 66,
      "outputs": []
    },
    {
      "cell_type": "code",
      "source": [
        "clustered_sentences = [[] for i in range(num_clusters)]\n",
        "for sentence_id, cluster_id in enumerate(cluster_assignment):\n",
        "    clustered_sentences[cluster_id].append(corpus[sentence_id])\n",
        "\n",
        "for i, cluster in enumerate(clustered_sentences):\n",
        "    print(\"Cluster \", i+1)\n",
        "    print(cluster)\n",
        "    print(\"\")"
      ],
      "metadata": {
        "colab": {
          "base_uri": "https://localhost:8080/"
        },
        "id": "PuJH0x5n531s",
        "outputId": "f590b343-eb43-4590-9a8c-f9c7187f75d8"
      },
      "execution_count": 67,
      "outputs": [
        {
          "output_type": "stream",
          "name": "stdout",
          "text": [
            "Cluster  1\n",
            "['I received poor customer service from this bank.', 'I am unhappy with the fees charged by this bank.', \"I have an issue with the bank's security measures\", \"I've been facing technical difficulties with the bank's website\"]\n",
            "\n",
            "Cluster  2\n",
            "['I have a checking account with this bank.', 'I applied for a car loan with this bank', 'I have a credit card with this bank.', 'I have a savings account with this bank.', 'I recently opened a new account with this bank.']\n",
            "\n",
            "Cluster  3\n",
            "[\"I use the bank's mobile app to check my account balance\", 'I had a problem with a transaction on my account.', \"I use this bank's online banking system regularly.\", \"I've been using the bank's ATM for cash withdrawals\", \"I've been using the bank's investment services\"]\n",
            "\n"
          ]
        }
      ]
    },
    {
      "cell_type": "code",
      "source": [
        "# Visualize the clusters using PCA and seaborn\n",
        "from sklearn.decomposition import PCA\n",
        "import seaborn as sns\n",
        "pca = PCA(n_components=2)\n",
        "pca_embeddings = pca.fit_transform(corpus_embeddings)\n",
        "\n",
        "df = pd.DataFrame(pca_embeddings, columns=['PC1', 'PC2'])\n",
        "df['cluster'] = cluster_assignment\n",
        "sns.set(rc={'figure.figsize':(11.7,8.27)})\n",
        "sns.scatterplot(x='PC1', y='PC2', hue='cluster', data=df, palette=['green','dodgerblue','red']).set(title='Cluters')"
      ],
      "metadata": {
        "colab": {
          "base_uri": "https://localhost:8080/",
          "height": 550
        },
        "id": "4jPaA6UKPKfg",
        "outputId": "df71d6b9-a7f4-4fa7-fee4-8da95614e0cd"
      },
      "execution_count": 72,
      "outputs": [
        {
          "output_type": "execute_result",
          "data": {
            "text/plain": [
              "[Text(0.5, 1.0, 'Cluters')]"
            ]
          },
          "metadata": {},
          "execution_count": 72
        },
        {
          "output_type": "display_data",
          "data": {
            "text/plain": [
              "<Figure size 842.4x595.44 with 1 Axes>"
            ],
            "image/png": "[encoded data removed]"
          },
          "metadata": {}
        }
      ]
    }
  ]
}